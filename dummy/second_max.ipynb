{
 "cells": [
  {
   "cell_type": "code",
   "execution_count": 6,
   "id": "a4510643",
   "metadata": {},
   "outputs": [],
   "source": [
    "list1 = [142, 321, 78, 32, 112, 98]"
   ]
  },
  {
   "cell_type": "code",
   "execution_count": 7,
   "id": "751744b9",
   "metadata": {},
   "outputs": [],
   "source": [
    "mx=max(list1[0],list1[1])\n",
    "secondmax=min(list1[0],list1[1])\n",
    "n =len(list1)\n",
    "for i in range(2,n):\n",
    "    if list1[i]>mx:\n",
    "        secondmax=mx\n",
    "        mx=list1[i]\n",
    "    elif list1[i]>secondmax and \\\n",
    "        mx != list1[i]:\n",
    "        secondmax=list1[i]"
   ]
  },
  {
   "cell_type": "code",
   "execution_count": 8,
   "id": "4fbc0ea6",
   "metadata": {},
   "outputs": [
    {
     "name": "stdout",
     "output_type": "stream",
     "text": [
      "142\n"
     ]
    }
   ],
   "source": [
    "print(str(secondmax))"
   ]
  },
  {
   "cell_type": "code",
   "execution_count": null,
   "id": "7399544a",
   "metadata": {},
   "outputs": [],
   "source": []
  }
 ],
 "metadata": {
  "kernelspec": {
   "display_name": "Python 3",
   "language": "python",
   "name": "python3"
  },
  "language_info": {
   "codemirror_mode": {
    "name": "ipython",
    "version": 3
   },
   "file_extension": ".py",
   "mimetype": "text/x-python",
   "name": "python",
   "nbconvert_exporter": "python",
   "pygments_lexer": "ipython3",
   "version": "3.8.8"
  }
 },
 "nbformat": 4,
 "nbformat_minor": 5
}
