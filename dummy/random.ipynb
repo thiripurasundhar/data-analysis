{
 "cells": [
  {
   "cell_type": "code",
   "execution_count": 1,
   "id": "68eb83ae",
   "metadata": {},
   "outputs": [],
   "source": [
    "import random"
   ]
  },
  {
   "cell_type": "code",
   "execution_count": 2,
   "id": "496d5f24",
   "metadata": {},
   "outputs": [],
   "source": [
    "def Rand(start, end, num):\n",
    "    res = []\n",
    "  \n",
    "    for j in range(num):\n",
    "        res.append(random.randint(start, end))\n",
    "  \n",
    "    return res"
   ]
  },
  {
   "cell_type": "code",
   "execution_count": 6,
   "id": "01a94a64",
   "metadata": {},
   "outputs": [
    {
     "name": "stdout",
     "output_type": "stream",
     "text": [
      "[31, 29, 25, 23, 25, 29, 37, 21, 28, 21]\n"
     ]
    }
   ],
   "source": [
    "num = 10\n",
    "start = 20\n",
    "end = 40\n",
    "print(Rand(start, end, num))"
   ]
  },
  {
   "cell_type": "code",
   "execution_count": null,
   "id": "6664c762",
   "metadata": {},
   "outputs": [],
   "source": []
  }
 ],
 "metadata": {
  "kernelspec": {
   "display_name": "Python 3",
   "language": "python",
   "name": "python3"
  },
  "language_info": {
   "codemirror_mode": {
    "name": "ipython",
    "version": 3
   },
   "file_extension": ".py",
   "mimetype": "text/x-python",
   "name": "python",
   "nbconvert_exporter": "python",
   "pygments_lexer": "ipython3",
   "version": "3.8.8"
  }
 },
 "nbformat": 4,
 "nbformat_minor": 5
}
